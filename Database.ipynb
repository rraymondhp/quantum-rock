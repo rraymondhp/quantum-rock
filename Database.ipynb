{
 "cells": [
  {
   "cell_type": "markdown",
   "metadata": {},
   "source": [
    "# Important: do Cell > All Outputs > Clear before commiting"
   ]
  },
  {
   "cell_type": "code",
   "execution_count": 4,
   "metadata": {},
   "outputs": [],
   "source": [
    "import numpy as np\n",
    "import matplotlib.pyplot as plt\n",
    "%matplotlib inline\n",
    "\n",
    "import qiskit\n",
    "from qiskit import BasicAer, QuantumCircuit, ClassicalRegister, QuantumRegister, execute\n",
    "from qiskit.aqua.circuits import FixedValueComparator\n",
    "\n",
    "from qiskit.transpiler.passes import Unroller\n",
    "from qiskit.converters import circuit_to_dag, dag_to_circuit\n",
    "import re \n"
   ]
  },
  {
   "cell_type": "code",
   "execution_count": 22,
   "metadata": {},
   "outputs": [],
   "source": [
    "NUM_BITS = 3\n",
    "S =  [0,2,4,6]\n",
    "N =  len(S)"
   ]
  },
  {
   "cell_type": "code",
   "execution_count": 23,
   "metadata": {},
   "outputs": [],
   "source": [
    "x = QuantumRegister(NUM_BITS, name=\"xs\") #name cannot be x or the conversion to qasm string and back will FAIL!\n",
    "work = QuantumRegister(NUM_BITS-1, name=\"a\")\n",
    "y = QuantumRegister(1, name=\"y\")\n",
    "x_meas = ClassicalRegister(NUM_BITS, name=\"m\")\n",
    "\n",
    "\n",
    "# y ^= (x == k)\n",
    "def u_omega_eq(k):\n",
    "    qc = QuantumCircuit(x, work, y)\n",
    "    qc.barrier()\n",
    "    for i in range(NUM_BITS):\n",
    "        if k & (1 << i):\n",
    "            pass\n",
    "        else:\n",
    "            qc.x(x[i])\n",
    "    qc.barrier()\n",
    "    qc.ccx(x[0], x[1], work[0])\n",
    "    for i in range(2, NUM_BITS-1):\n",
    "        qc.ccx(x[i], work[i-2], work[i-1])\n",
    "    qc.ccx(x[-1], work[-1], y)\n",
    "    for i in range(NUM_BITS-2, 1, -1):\n",
    "        qc.ccx(x[i], work[i-2], work[i-1])\n",
    "    qc.ccx(x[0], x[1], work[0])\n",
    "    \n",
    "    qc.barrier()\n",
    "    for i in range(NUM_BITS):\n",
    "        if k & (1 << i):\n",
    "            pass\n",
    "        else:\n",
    "            qc.x(x[i])\n",
    "    qc.barrier()\n",
    "\n",
    "    return qc\n",
    "\n",
    "# y ^= (x < k)\n",
    "def u_omega_cmp(k):\n",
    "    qc = QuantumCircuit(x, work, y)\n",
    "    cmp = FixedValueComparator(NUM_BITS, value=k, geq=False)\n",
    "    cmp.build(qc, [x[i] for i in range(NUM_BITS)] + [y[0]], work)\n",
    "    return qc\n",
    "\n",
    "def a():\n",
    "    a = [0]*(2**NUM_BITS)\n",
    "    for s in S:\n",
    "        if s > (2**NUM_BITS):\n",
    "            pass\n",
    "        a[s] = 1\n",
    "    a = [float(i) /np.sqrt(sum(a))  for i in a]\n",
    "    \n",
    "    \n",
    "    \n",
    "    qc = QuantumCircuit(x) \n",
    "    qc.initialize(a,[x[i] for i in range(NUM_BITS)]) \n",
    "    dag = circuit_to_dag(qc)\n",
    "    pass_ = Unroller(basis=['u3', 'cx', 'id'])\n",
    "    unrolled_dag = pass_.run(dag)\n",
    "    unrolled_circuit = dag_to_circuit(unrolled_dag)\n",
    "    import re\n",
    "    qc_without_reset = re.sub(\"reset.*\\n\", \"\", unrolled_circuit.qasm())\n",
    "      \n",
    "\n",
    "   # print ( qc_without_reset) \n",
    "    qc = QuantumCircuit.from_qasm_str(qc_without_reset)\n",
    "    \n",
    "    return qc \n",
    "\n",
    "def a_inv():\n",
    "    return a().inverse() \n",
    "\n",
    "def diffusion():\n",
    "    qc = QuantumCircuit(x)\n",
    "    qc += a_inv()\n",
    "    qc += u_omega_eq(0)\n",
    "    qc += a()\n",
    "    return qc\n",
    "\n",
    "def grover_iteration(u_omega):\n",
    "    qc = QuantumCircuit()\n",
    "    qc += u_omega\n",
    "    qc.barrier()\n",
    "    qc += diffusion()\n",
    "    return qc\n"
   ]
  },
  {
   "cell_type": "code",
   "execution_count": 24,
   "metadata": {},
   "outputs": [
    {
     "name": "stdout",
     "output_type": "stream",
     "text": [
      "0.9999999999999998\n",
      "1\n",
      "{0, 1}\n"
     ]
    }
   ],
   "source": [
    "# TODO: wrong for comparison\n",
    "THETA = 2*np.arcsin(1/np.sqrt(N))\n",
    "ITERS = (np.pi/2 - THETA/2) / THETA\n",
    "\n",
    "print(ITERS)\n",
    "ITERS = int(np.round(ITERS))\n",
    "print(ITERS)\n",
    "\n",
    "\n",
    "num_grover_iters = {0, ITERS}\n",
    "k = 1\n",
    "while k <= ITERS:\n",
    "    num_grover_iters.add(k)\n",
    "    k *= 2\n",
    "    \n",
    "print(num_grover_iters)\n",
    "\n",
    "def find_min(iters):\n",
    "    qc = QuantumCircuit(x)\n",
    "    qc += a()\n",
    "    working_min = measure(x)\n",
    "    \n",
    "    for _ in range(iters):\n",
    "        experiments = []\n",
    "        for k in num_grover_iters:\n",
    "            qc = QuantumCircuit(x,work,y)\n",
    "            qc += a()\n",
    "            qc.x(y)\n",
    "            qc.h(y)\n",
    "            for _ in k:\n",
    "                qc += grover_iteration(u_omega_cmp(working_min))\n",
    "            experiments.append(qc)\n",
    "            k = max(k, 1) * 2\n",
    "        result = execute(experiments, simulator).result()\n",
    "        print(result)\n",
    "\n",
    "qc = QuantumCircuit(x,work,y)\n",
    "qc += a()\n",
    "qc.x(y)\n",
    "qc.h(y)\n",
    "qc.barrier()\n",
    "for _ in range(1):\n",
    "    qc += u_omega_cmp(5)\n",
    "    #qc += grover_iteration(u_omega_eq, 0)\n",
    "\n",
    "\n",
    "#qc += u_omega(4)"
   ]
  },
  {
   "cell_type": "code",
   "execution_count": 25,
   "metadata": {
    "scrolled": true
   },
   "outputs": [
    {
     "name": "stdout",
     "output_type": "stream",
     "text": [
      "-0.354+0.000j |0>|0>\n",
      "-0.354+0.000j |2>|0>\n",
      "-0.354+0.000j |4>|0>\n",
      "0.354+0.000j |6>|0>\n",
      "0.354+0.000j |0>|2>\n",
      "0.354+0.000j |2>|2>\n",
      "0.354+0.000j |4>|2>\n",
      "-0.354+0.000j |6>|2>\n"
     ]
    }
   ],
   "source": [
    "\n",
    "# Select the StatevectorSimulator from the Aer provider\n",
    "simulator = BasicAer.get_backend('statevector_simulator')\n",
    "\n",
    "# Execute and get counts\n",
    "result = execute(qc, simulator).result()\n",
    "statevector = result.get_statevector(qc)\n",
    "# statevector[bitconcat()]\n",
    "for i in range(len(statevector)):\n",
    "    x_val = i & ((1<<NUM_BITS)-1)\n",
    "    y_val = i >> (NUM_BITS + NUM_BITS-2)\n",
    "    if statevector[i] != 0.0:\n",
    "        print(\"{:.3f} |{}>|{}>\".format(statevector[i], x_val, y_val))"
   ]
  },
  {
   "cell_type": "code",
   "execution_count": 27,
   "metadata": {},
   "outputs": [
    {
     "name": "stdout",
     "output_type": "stream",
     "text": [
      "[<QasmSimulatorPy('qasm_simulator') from BasicAer()>, <StatevectorSimulatorPy('statevector_simulator') from BasicAer()>, <UnitarySimulatorPy('unitary_simulator') from BasicAer()>]\n"
     ]
    }
   ],
   "source": [
    "working_min = 10000000\n",
    "backend = BasicAer.get_backend('qasm_simulator')\n",
    "print(BasicAer.backends())"
   ]
  },
  {
   "cell_type": "code",
   "execution_count": 28,
   "metadata": {},
   "outputs": [
    {
     "name": "stdout",
     "output_type": "stream",
     "text": [
      "qasm_simulator\n",
      "{'100': 26, '110': 23, '000': 27, '010': 24}\n",
      "ExperimentResultData(counts=Obj(0x0=27, 0x2=24, 0x4=26, 0x6=23))\n",
      "{'100': 26, '110': 23, '000': 27, '010': 24}\n",
      "{4: 26, 6: 23, 0: 27, 2: 24}\n"
     ]
    }
   ],
   "source": [
    "experiments = []\n",
    "for k in {0}:\n",
    "    qc = QuantumCircuit(x,work,y,x_meas)\n",
    "    qc += a()\n",
    "    qc.x(y)\n",
    "    qc.h(y)\n",
    "    qc.barrier()\n",
    "    for _ in range(k):\n",
    "        qc += grover_iteration(u_omega_cmp(working_min))\n",
    "    qc.measure(x, x_meas)\n",
    "    #res = qc.draw(output='mpl')\n",
    "    experiments.append(qc)\n",
    "    k = max(k, 1) * 2\n",
    "result = execute(experiments, backend, shots=100, seed_simulator=1)\n",
    "result = result.result()\n",
    "print(result.backend_name)\n",
    "counts = result.get_counts(0)\n",
    "print(result.get_counts(0))\n",
    "\n",
    "print(result.results[0].data)\n",
    "print(counts)\n",
    "def unpack_bin(counts):\n",
    "    res = {}\n",
    "    for k in counts.keys():\n",
    "        res[int(k, 2)] = counts[k]\n",
    "    return res\n",
    "\n",
    "counts = unpack_bin(counts)\n",
    "print(counts)\n",
    "\n",
    "#print({min({i&((1<<NUM_BITS)-1) for i in range(len(res.data.statevector)) if res.data.statevector[i] != 0.0}) for res in result.results})\n",
    "#res"
   ]
  },
  {
   "cell_type": "code",
   "execution_count": null,
   "metadata": {},
   "outputs": [],
   "source": []
  }
 ],
 "metadata": {
  "kernelspec": {
   "display_name": "Python 3",
   "language": "python",
   "name": "python3"
  },
  "language_info": {
   "codemirror_mode": {
    "name": "ipython",
    "version": 3
   },
   "file_extension": ".py",
   "mimetype": "text/x-python",
   "name": "python",
   "nbconvert_exporter": "python",
   "pygments_lexer": "ipython3",
   "version": "3.7.3"
  }
 },
 "nbformat": 4,
 "nbformat_minor": 2
}
