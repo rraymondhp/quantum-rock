{
 "cells": [
  {
   "cell_type": "markdown",
   "metadata": {},
   "source": [
    "# Important: do Cell > All Outputs > Clear before commiting"
   ]
  },
  {
   "cell_type": "code",
   "execution_count": null,
   "metadata": {},
   "outputs": [],
   "source": [
    "import numpy as np\n",
    "import matplotlib.pyplot as plt\n",
    "%matplotlib inline\n",
    "\n",
    "from qiskit import BasicAer, QuantumCircuit, ClassicalRegister, QuantumRegister, execute"
   ]
  },
  {
   "cell_type": "code",
   "execution_count": null,
   "metadata": {},
   "outputs": [],
   "source": [
    "NUM_BITS = 6"
   ]
  },
  {
   "cell_type": "code",
   "execution_count": null,
   "metadata": {},
   "outputs": [],
   "source": [
    "x = QuantumRegister(NUM_BITS)\n",
    "work = QuantumRegister(NUM_BITS-2)\n",
    "y = QuantumRegister(1)\n",
    "\n",
    "def get_eq_circ(k):\n",
    "    qc = QuantumCircuit(x, work, y)\n",
    "    for i in range(NUM_BITS):\n",
    "        if k & (1 << i):\n",
    "            pass\n",
    "        else:\n",
    "            qc.x(x[i])\n",
    "    qc.barrier()\n",
    "    qc.ccx(x[0], x[1], work[0])\n",
    "    for i in range(2, NUM_BITS-1):\n",
    "        qc.ccx(x[i], work[i-2], work[i-1])\n",
    "    qc.ccx(x[-1], work[-1], y)\n",
    "    for i in range(NUM_BITS-2, 1, -1):\n",
    "        qc.ccx(x[i], work[i-2], work[i-1])\n",
    "    qc.ccx(x[0], x[1], work[0])\n",
    "    \n",
    "    qc.barrier()\n",
    "    for i in range(NUM_BITS):\n",
    "        if k & (1 << i):\n",
    "            pass\n",
    "        else:\n",
    "            qc.x(x[i])\n",
    "\n",
    "    return qc\n",
    "\n",
    "def a():\n",
    "    qc = QuantumCircuit(x)\n",
    "    qc.h(x[0])\n",
    "    qc.h(x[2])\n",
    "    return qc\n",
    "\n",
    "def a_inv(k):\n",
    "    return a()"
   ]
  },
  {
   "cell_type": "code",
   "execution_count": null,
   "metadata": {},
   "outputs": [],
   "source": [
    "eq_5 = get_eq_circ(17)\n",
    "eq_5.barrier()\n",
    "eq_5 += a()\n",
    "eq_5.draw(output='mpl')"
   ]
  },
  {
   "cell_type": "code",
   "execution_count": null,
   "metadata": {},
   "outputs": [],
   "source": []
  }
 ],
 "metadata": {
  "kernelspec": {
   "display_name": "Python 3",
   "language": "python3",
   "name": "python3"
  },
  "language_info": {
   "codemirror_mode": {
    "name": "ipython",
    "version": 3
   },
   "file_extension": ".py",
   "mimetype": "text/x-python",
   "name": "python",
   "nbconvert_exporter": "python",
   "pygments_lexer": "ipython3",
   "version": "3.6.8"
  }
 },
 "nbformat": 4,
 "nbformat_minor": 2
}
