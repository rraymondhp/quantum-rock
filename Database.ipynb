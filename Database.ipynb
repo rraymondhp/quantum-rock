{
 "cells": [
  {
   "cell_type": "markdown",
   "metadata": {},
   "source": [
    "# Important: do Cell > All Outputs > Clear before commiting"
   ]
  },
  {
   "cell_type": "code",
   "execution_count": null,
   "metadata": {},
   "outputs": [],
   "source": [
    "import numpy as np\n",
    "import matplotlib.pyplot as plt\n",
    "%matplotlib inline\n",
    "\n",
    "from qiskit import BasicAer, QuantumCircuit, ClassicalRegister, QuantumRegister, execute"
   ]
  },
  {
   "cell_type": "code",
   "execution_count": null,
   "metadata": {},
   "outputs": [],
   "source": [
    "NUM_BITS = 3"
   ]
  },
  {
   "cell_type": "code",
   "execution_count": null,
   "metadata": {},
   "outputs": [],
   "source": [
    "x = QuantumRegister(NUM_BITS)\n",
    "work = QuantumRegister(NUM_BITS-2)\n",
    "y = QuantumRegister(1)\n",
    "\n",
    "def u_omega(k):\n",
    "    qc = QuantumCircuit(x, work, y)\n",
    "    for i in range(NUM_BITS):\n",
    "        if k & (1 << i):\n",
    "            pass\n",
    "        else:\n",
    "            qc.x(x[i])\n",
    "    qc.barrier()\n",
    "    qc.ccx(x[0], x[1], work[0])\n",
    "    for i in range(2, NUM_BITS-1):\n",
    "        qc.ccx(x[i], work[i-2], work[i-1])\n",
    "    qc.ccx(x[-1], work[-1], y)\n",
    "    for i in range(NUM_BITS-2, 1, -1):\n",
    "        qc.ccx(x[i], work[i-2], work[i-1])\n",
    "    qc.ccx(x[0], x[1], work[0])\n",
    "    \n",
    "    qc.barrier()\n",
    "    for i in range(NUM_BITS):\n",
    "        if k & (1 << i):\n",
    "            pass\n",
    "        else:\n",
    "            qc.x(x[i])\n",
    "\n",
    "    return qc\n",
    "\n",
    "# S = {0,1,4,5}\n",
    "N = 4\n",
    "def a():\n",
    "    qc = QuantumCircuit(x)\n",
    "    qc.h(x[0])\n",
    "    qc.h(x[2])\n",
    "    return qc\n",
    "\n",
    "def a_inv():\n",
    "    return a()\n",
    "\n",
    "def diffusion():\n",
    "    qc = QuantumCircuit(x)\n",
    "    qc += a_inv()\n",
    "    qc += u_omega(0)\n",
    "    qc += a()\n",
    "    return qc\n",
    "\n",
    "def grover_iteration(k):\n",
    "    qc = QuantumCircuit()\n",
    "    qc += u_omega(k)\n",
    "    qc += diffusion()\n",
    "    return qc"
   ]
  },
  {
   "cell_type": "code",
   "execution_count": null,
   "metadata": {},
   "outputs": [],
   "source": [
    "THETA = 2*np.arcsin(1/np.sqrt(N))\n",
    "ITERS = (np.pi/2 - THETA/2) / THETA\n",
    "\n",
    "print(ITERS)\n",
    "ITERS = int(np.round(ITERS))\n",
    "print(ITERS)\n",
    "\n",
    "\n",
    "qc = QuantumCircuit(x,work,y)\n",
    "qc += a()\n",
    "qc.x(y)\n",
    "qc.h(y)\n",
    "qc.barrier()\n",
    "for _ in range(1):\n",
    "    qc += grover_iteration(0)\n",
    "\n",
    "\n",
    "#qc += u_omega(4)"
   ]
  },
  {
   "cell_type": "code",
   "execution_count": null,
   "metadata": {
    "scrolled": true
   },
   "outputs": [],
   "source": [
    "\n",
    "# Select the StatevectorSimulator from the Aer provider\n",
    "simulator = BasicAer.get_backend('statevector_simulator')\n",
    "\n",
    "# Execute and get counts\n",
    "result = execute(qc, simulator).result()\n",
    "statevector = result.get_statevector(qc)\n",
    "# statevector[bitconcat()]\n",
    "for i in range(len(statevector)):\n",
    "    x_val = i & ((1<<NUM_BITS)-1)\n",
    "    y_val = i >> (NUM_BITS + NUM_BITS-2)\n",
    "    if statevector[i] != 0.0:\n",
    "        print(\"{:.3f} |{}>|{}>\".format(statevector[i], x_val, y_val))"
   ]
  }
 ],
 "metadata": {
  "kernelspec": {
   "display_name": "Python 3",
   "language": "python3",
   "name": "python3"
  },
  "language_info": {
   "codemirror_mode": {
    "name": "ipython",
    "version": 3
   },
   "file_extension": ".py",
   "mimetype": "text/x-python",
   "name": "python",
   "nbconvert_exporter": "python",
   "pygments_lexer": "ipython3",
   "version": "3.6.8"
  }
 },
 "nbformat": 4,
 "nbformat_minor": 2
}
