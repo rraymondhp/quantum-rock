{
 "cells": [
  {
   "cell_type": "markdown",
   "metadata": {},
   "source": [
    "# Important: do Cell > All Outputs > Clear before commiting"
   ]
  },
  {
   "cell_type": "code",
   "execution_count": 1,
   "metadata": {},
   "outputs": [],
   "source": [
    "import numpy as np\n",
    "import matplotlib.pyplot as plt\n",
    "%matplotlib inline\n",
    "\n",
    "import qiskit\n",
    "from qiskit import BasicAer, QuantumCircuit, ClassicalRegister, QuantumRegister, execute\n",
    "from qiskit.aqua.circuits import FixedValueComparator\n",
    "\n",
    "from qiskit.transpiler.passes import Unroller\n",
    "from qiskit.converters import circuit_to_dag, dag_to_circuit\n",
    "import re \n",
    "import time\n",
    "from qiskit import IBMQ\n",
    "import operator"
   ]
  },
  {
   "cell_type": "code",
   "execution_count": 2,
   "metadata": {},
   "outputs": [],
   "source": [
    "NUM_BITS = 5\n",
    "S =  list(range(10, 20))\n",
    "N =  len(S)\n",
    "simulator = BasicAer.get_backend('statevector_simulator')"
   ]
  },
  {
   "cell_type": "code",
   "execution_count": 3,
   "metadata": {},
   "outputs": [
    {
     "name": "stdout",
     "output_type": "stream",
     "text": [
      "Available backends:\n"
     ]
    },
    {
     "name": "stderr",
     "output_type": "stream",
     "text": [
      "/home/julius/anaconda3/envs/qc/lib/python3.6/site-packages/qiskit/providers/ibmq/ibmqfactory.py:547: DeprecationWarning: IBMQ.backends() is being deprecated. Please use IBMQ.get_provider() to retrieve a provider and AccountProvider.backends() to find its backends.\n",
      "  DeprecationWarning)\n"
     ]
    },
    {
     "name": "stdout",
     "output_type": "stream",
     "text": [
      "[<IBMQSimulator('ibmq_qasm_simulator') from IBMQ(hub='ibm-q', group='open', project='main')>, <IBMQBackend('ibmqx4') from IBMQ(hub='ibm-q', group='open', project='main')>, <IBMQBackend('ibmqx2') from IBMQ(hub='ibm-q', group='open', project='main')>, <IBMQBackend('ibmq_16_melbourne') from IBMQ(hub='ibm-q', group='open', project='main')>, <IBMQSimulator('ibmq_qasm_simulator') from IBMQ(hub='ibm-q-academic', group='u-tokyo', project='intro-qc-2019s')>, <IBMQBackend('ibmq_20_tokyo') from IBMQ(hub='ibm-q-academic', group='u-tokyo', project='intro-qc-2019s')>, <IBMQBackend('ibmq_poughkeepsie') from IBMQ(hub='ibm-q-academic', group='u-tokyo', project='intro-qc-2019s')>]\n"
     ]
    }
   ],
   "source": [
    "myAPItoken = \"PUT YOUR TOKEN HERE\"\n",
    "IBMQ.enable_account(myAPItoken)\n",
    "IBMQ.stored_account()\n",
    "print(\"Available backends:\")\n",
    "print(IBMQ.backends())"
   ]
  },
  {
   "cell_type": "code",
   "execution_count": 4,
   "metadata": {},
   "outputs": [
    {
     "name": "stderr",
     "output_type": "stream",
     "text": [
      "/home/julius/anaconda3/envs/qc/lib/python3.6/site-packages/qiskit/providers/ibmq/ibmqfactory.py:594: DeprecationWarning: IBMQ.get_backend() is being deprecated. Please use IBMQ.get_provider() to retrieve a provider and AccountProvider.get_backend(\"name\") to retrieve a backend.\n",
      "  DeprecationWarning)\n"
     ]
    }
   ],
   "source": [
    "backend = IBMQ.get_backend('ibmq_20_tokyo')"
   ]
  },
  {
   "cell_type": "code",
   "execution_count": 5,
   "metadata": {},
   "outputs": [],
   "source": [
    "x = QuantumRegister(NUM_BITS, name=\"xs\") #name cannot be x or the conversion to qasm string and back will FAIL!\n",
    "work = QuantumRegister(NUM_BITS-1, name=\"a\")\n",
    "y = QuantumRegister(1, name=\"y\")\n",
    "x_meas = ClassicalRegister(NUM_BITS, name=\"m\")\n",
    "\n",
    "\n",
    "# y ^= (x == k)\n",
    "def u_omega_eq(k):\n",
    "    qc = QuantumCircuit(x, work, y)\n",
    "\n",
    "    for i in range(NUM_BITS):\n",
    "        if k & (1 << i):\n",
    "            pass\n",
    "        else:\n",
    "            qc.x(x[i])\n",
    "\n",
    "    qc.ccx(x[0], x[1], work[0])\n",
    "    for i in range(2, NUM_BITS-1):\n",
    "        qc.ccx(x[i], work[i-2], work[i-1])\n",
    "    qc.ccx(x[-1], work[NUM_BITS-3], y)\n",
    "    for i in range(NUM_BITS-2, 1, -1):\n",
    "        qc.ccx(x[i], work[i-2], work[i-1])\n",
    "    qc.ccx(x[0], x[1], work[0])\n",
    "    \n",
    "\n",
    "    for i in range(NUM_BITS):\n",
    "        if k & (1 << i):\n",
    "            pass\n",
    "        else:\n",
    "            qc.x(x[i])\n",
    "    return qc\n",
    "\n",
    "# y ^= (x < k)\n",
    "def u_omega_cmp(k):\n",
    "    qc = QuantumCircuit(x, work, y)\n",
    "    cmp = FixedValueComparator(NUM_BITS, value=k, geq=False)\n",
    "    cmp.build(qc, [x[i] for i in range(NUM_BITS)] + [y[0]], work)\n",
    "    return qc\n",
    "\n",
    "def a():\n",
    "    #qc = QuantumCircuit(x)\n",
    "    #qc.h(x[0])\n",
    "    #qc.h(x[2])\n",
    "    #return qc\n",
    "\n",
    "    a = [0]*(2**NUM_BITS)\n",
    "    for s in S:\n",
    "        if s > (2**NUM_BITS):\n",
    "            pass\n",
    "        a[s] = 1\n",
    "    a = [float(i) /np.sqrt(sum(a))  for i in a]\n",
    "    \n",
    "    \n",
    "    \n",
    "    qc = QuantumCircuit(x) \n",
    "    qc.initialize(a,[x[i] for i in range(NUM_BITS)]) \n",
    "    dag = circuit_to_dag(qc)\n",
    "    pass_ = Unroller(basis=['u3', 'cx', 'id'])\n",
    "    unrolled_dag = pass_.run(dag)\n",
    "    unrolled_circuit = dag_to_circuit(unrolled_dag)\n",
    "    import re\n",
    "    qc_without_reset = re.sub(\"reset.*\\n\", \"\", unrolled_circuit.qasm())\n",
    "      \n",
    "\n",
    "   # print ( qc_without_reset) \n",
    "    qc = QuantumCircuit.from_qasm_str(qc_without_reset)\n",
    "    \n",
    "    return qc \n",
    "\n",
    "def a_inv():\n",
    "    return a().inverse() \n",
    "\n",
    "def diffusion():\n",
    "    qc = QuantumCircuit(x)\n",
    "    qc += a_inv()\n",
    "    qc += u_omega_eq(0)\n",
    "    qc += a()\n",
    "    return qc\n",
    "\n",
    "def grover_iteration(u_omega):\n",
    "    qc = QuantumCircuit()\n",
    "    qc += u_omega\n",
    "    qc.barrier()\n",
    "    qc += diffusion()\n",
    "    return qc\n"
   ]
  },
  {
   "cell_type": "code",
   "execution_count": 6,
   "metadata": {},
   "outputs": [
    {
     "name": "stdout",
     "output_type": "stream",
     "text": [
      "1.9410157268268091\n",
      "2\n",
      "{0, 1, 2}\n"
     ]
    }
   ],
   "source": [
    "# TODO: wrong for comparison\n",
    "THETA = 2*np.arcsin(1/np.sqrt(N))\n",
    "ITERS = (np.pi/2 - THETA/2) / THETA\n",
    "\n",
    "print(ITERS)\n",
    "ITERS = int(np.round(ITERS))\n",
    "print(ITERS)\n",
    "\n",
    "\n",
    "num_grover_iters = {0, ITERS}\n",
    "k = 1\n",
    "while k <= ITERS:\n",
    "    num_grover_iters.add(k)\n",
    "    k *= 2   \n",
    "#num_grover_iters = {0}\n",
    "print(num_grover_iters)\n",
    "\n",
    "def find_k(k):\n",
    "    shots = 1\n",
    "    \n",
    "    qc = QuantumCircuit(x,work,y,x_meas)\n",
    "    qc += a()\n",
    "    qc.x(y)\n",
    "    qc.h(y)\n",
    "    for _ in range(ITERS):\n",
    "        qc += grover_iteration(u_omega_eq(k))\n",
    "    qc.measure(x, x_meas)\n",
    "    result = execute(qc, simulator, shots=shots, seed_simulator=int(np.uint32(100*time.time()))).result()\n",
    "    #print_statevector(result.get_statevector())\n",
    "    counts = result.get_counts()\n",
    "    k_bin = (\"{:0%db}\"%NUM_BITS).format(k)\n",
    "    return k_bin in counts\n",
    "\n",
    "def find_min(iters):\n",
    "    working_min = 1<<NUM_BITS\n",
    "    \n",
    "    for _ in range(iters):\n",
    "        experiments = []\n",
    "        for k in num_grover_iters:\n",
    "            qc = QuantumCircuit(x,work,y,x_meas)\n",
    "            qc += a()\n",
    "            qc.x(y)\n",
    "            qc.h(y)\n",
    "            for _ in range(k):\n",
    "                qc += grover_iteration(u_omega_cmp(working_min))\n",
    "            qc.measure(x, x_meas)\n",
    "            experiments.append(qc)\n",
    "\n",
    "        result = execute(experiments, simulator, shots=1, seed_simulator=int(np.uint32(100*time.time()))).result()\n",
    "        for i in range(len(experiments)):\n",
    "            counts = result.get_counts(i)\n",
    "            print(counts)\n",
    "        working_min = min(working_min, min([int(k, 2) for k in counts if counts[k] > 0]))\n",
    "        print(working_min)\n",
    "    return working_min\n",
    "\n"
   ]
  },
  {
   "cell_type": "code",
   "execution_count": 7,
   "metadata": {
    "scrolled": true
   },
   "outputs": [],
   "source": [
    "def print_statevector(statevector):\n",
    "    for i in range(len(statevector)):\n",
    "        x_val = i & ((1<<NUM_BITS)-1)\n",
    "        y_val = i >> (NUM_BITS + NUM_BITS-1)\n",
    "        if np.abs(statevector[i]) > 1e-8:\n",
    "            print(\"{:.3f} |{}>|{}>\".format(statevector[i], x_val, y_val))"
   ]
  },
  {
   "cell_type": "code",
   "execution_count": null,
   "metadata": {},
   "outputs": [
    {
     "name": "stdout",
     "output_type": "stream",
     "text": [
      "{'10001': 1}\n",
      "{'10001': 1}\n",
      "{'10001': 1}\n",
      "17\n"
     ]
    }
   ],
   "source": [
    "# paper talks of 22.5 iterations\n",
    "print('min', S, \"=\", find_min(5))"
   ]
  },
  {
   "cell_type": "code",
   "execution_count": null,
   "metadata": {},
   "outputs": [],
   "source": [
    "# this works most of the time\n",
    "query =  13\n",
    "print(query, \"in\", S, \":\", find_k(query))"
   ]
  },
  {
   "cell_type": "code",
   "execution_count": 17,
   "metadata": {},
   "outputs": [],
   "source": [
    "def find_k_real(k,old_run_ID = None):\n",
    "    shots = 100\n",
    "    qc = QuantumCircuit(x,work,y,x_meas)\n",
    "    qc += a()\n",
    "    qc.x(y)\n",
    "    qc.h(y)\n",
    "    for _ in range(ITERS):\n",
    "        qc += grover_iteration(u_omega_eq(k))\n",
    "    qc.measure(x, x_meas)\n",
    "    if old_run_ID == None:\n",
    "        \n",
    "        result = execute(qc, backend, shots=shots, seed_simulator=int(np.uint32(100*time.time()))).result()\n",
    "    else: \n",
    "        result =  backend.retrieve_job(old_run_ID).result() \n",
    "    #print_statevector(result.get_statevector())\n",
    "    counts = result.get_counts()\n",
    "    k_bin = (\"{:0%db}\"%NUM_BITS).format(k)\n",
    "    return k_bin is max(counts.items(), key=operator.itemgetter(1))[0], counts\n",
    "\n",
    "def find_min_real(iters,jobs_run):\n",
    "    working_min = 1<<NUM_BITS\n",
    "    \n",
    "    for i in range(iters):\n",
    "        experiments = []\n",
    "        for k in num_grover_iters:\n",
    "            qc = QuantumCircuit(x,work,y,x_meas)\n",
    "            qc += a()\n",
    "            qc.x(y)\n",
    "            qc.h(y)\n",
    "            for _ in range(k):\n",
    "                qc += grover_iteration(u_omega_cmp(working_min))\n",
    "            qc.measure(x, x_meas)\n",
    "            experiments.append(qc)\n",
    "        if (i < len(jobs_run)):\n",
    "            \n",
    "        else:\n",
    "            result = execute(experiments, backend, shots=1, seed_simulator=int(np.uint32(100*time.time()))).result()\n",
    "        for i in range(len(experiments)):\n",
    "            counts = result.get_counts(i)\n",
    "            print(counts)\n",
    "        working_min = min(working_min, min([int(k, 2) for k in counts if counts[k] > 0]))\n",
    "        print(working_min)\n",
    "    return working_min\n",
    "\n"
   ]
  },
  {
   "cell_type": "code",
   "execution_count": 15,
   "metadata": {},
   "outputs": [
    {
     "data": {
      "text/plain": [
       "False"
      ]
     },
     "execution_count": 15,
     "metadata": {},
     "output_type": "execute_result"
    }
   ],
   "source": [
    "query = 11\n",
    "t,c = find_k_real(query,\"5d432830523a2e0012628a76\")\n",
    "t"
   ]
  },
  {
   "cell_type": "code",
   "execution_count": null,
   "metadata": {},
   "outputs": [
    {
     "name": "stdout",
     "output_type": "stream",
     "text": [
      "{'01011': 1}\n",
      "{'00000': 1}\n",
      "{'01111': 1}\n",
      "15\n",
      "{'10110': 1}\n",
      "{'10110': 1}\n",
      "{'00101': 1}\n",
      "5\n",
      "{'00110': 1}\n",
      "{'11010': 1}\n",
      "{'10101': 1}\n",
      "5\n"
     ]
    }
   ],
   "source": [
    "# soooo this worked twice out of 5 tries before the presentation and then none out of 20 afterwards, \n",
    "#upping the shot count will make the code run basically indefinitely(two runs took almost 2 days, before i cancelled) \n",
    "#if given more time (after the project is done, we might be able find a solution) \n",
    "print('min', S, \"=\", find_min_real(5))"
   ]
  },
  {
   "cell_type": "code",
   "execution_count": null,
   "metadata": {},
   "outputs": [],
   "source": [
    "old_find_jobs = {0: 5d43924d3b332300120b9959}"
   ]
  },
  {
   "cell_type": "code",
   "execution_count": null,
   "metadata": {},
   "outputs": [],
   "source": []
  }
 ],
 "metadata": {
  "kernelspec": {
   "display_name": "qc",
   "language": "python",
   "name": "qc"
  },
  "language_info": {
   "codemirror_mode": {
    "name": "ipython",
    "version": 3
   },
   "file_extension": ".py",
   "mimetype": "text/x-python",
   "name": "python",
   "nbconvert_exporter": "python",
   "pygments_lexer": "ipython3",
   "version": "3.6.8"
  }
 },
 "nbformat": 4,
 "nbformat_minor": 2
}
